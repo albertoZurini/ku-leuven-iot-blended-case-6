{
 "cells": [
  {
   "cell_type": "code",
   "execution_count": 1,
   "id": "fa4beebe-dfae-43e8-baed-ee0b41affbab",
   "metadata": {},
   "outputs": [],
   "source": [
    "import numpy as np\n",
    "import json\n",
    "import math\n",
    "import time\n",
    "import matplotlib.pyplot as plt\n",
    "from util import matrix, cost, euclidean, checkCapacity as cc, ripupandrepair as rr\n",
    "import random"
   ]
  },
  {
   "cell_type": "code",
   "execution_count": 2,
   "id": "067401de-71ea-4762-bda3-a7bad9651570",
   "metadata": {},
   "outputs": [
    {
     "name": "stdout",
     "output_type": "stream",
     "text": [
      "['X-n101-k25', 'X-n115-k10', 'X-n261-k13', 'X-n308-k13', 'X-n429-k61', 'X-n524-k153', 'X-n819-k171', 'X-n856-k95', 'X-n936-k151', 'X-n1001-k43']\n"
     ]
    }
   ],
   "source": [
    "paths = []\n",
    "with open('data/paths.txt') as f:\n",
    "    paths = f.read().split('\\n')\n",
    "print(paths)"
   ]
  },
  {
   "cell_type": "code",
   "execution_count": 3,
   "id": "ab0c37b9",
   "metadata": {},
   "outputs": [],
   "source": [
    "paths = ['X-n1001-k43']"
   ]
  },
  {
   "cell_type": "code",
   "execution_count": 4,
   "id": "2b18c676-16f7-4879-ab9f-4d3f4f463cfe",
   "metadata": {},
   "outputs": [],
   "source": [
    "types = ['greedy', 'radial', 'concentric', 'low-first']\n",
    "types = ['low-first']"
   ]
  },
  {
   "cell_type": "markdown",
   "id": "fbe4ef68",
   "metadata": {},
   "source": [
    "Using RnR (Rip up and Repair) techniques, nodes are swapped between strings"
   ]
  },
  {
   "cell_type": "markdown",
   "id": "b00945d8",
   "metadata": {},
   "source": [
    "## find best string from shortened string and some points"
   ]
  },
  {
   "cell_type": "code",
   "execution_count": null,
   "id": "10bd833f-e532-41cc-b5fe-7b2c7c9ee3e2",
   "metadata": {
    "scrolled": false
   },
   "outputs": [
    {
     "name": "stdout",
     "output_type": "stream",
     "text": [
      "\n",
      "----- X-n1001-k43 -----\n",
      "-- low-first --\n",
      "------------------------------------ iteration 1 ------------------------------------\n"
     ]
    }
   ],
   "source": [
    "for path in paths:\n",
    "    f = open('jsons/' + path + '.json')\n",
    "    data = json.load(f)\n",
    "    dim = data['dimension']\n",
    "    demand = data['demand']\n",
    "    depot = (data['depot'][0],data['depot'][1])\n",
    "    x = data['x']\n",
    "    y = data['y']\n",
    "    print('\\n----- ' + data['name'] + ' -----')\n",
    "    for type in types:\n",
    "        print('-- ' + type + ' --')\n",
    "\n",
    "        # start chrono\n",
    "        t1 = time.time()\n",
    "        \n",
    "        # calculate distance matrix\n",
    "        distances = matrix.getDist(dim, x, y, euclidean.euc)\n",
    "\n",
    "        strings = data[type]['initial']['solution'].copy()\n",
    "        if type in data.keys():\n",
    "            if 'optimized' not in data[type].keys():\n",
    "                data[type]['optimized'] = {}\n",
    "        else:\n",
    "            print('no initial solution yet')\n",
    "\n",
    "        # how many points to swap\n",
    "        degree = 3\n",
    "        \n",
    "        # iterations\n",
    "        n = 2\n",
    "        k = 0\n",
    "        \n",
    "        # replaced n strings\n",
    "        replaced = 0\n",
    "        \n",
    "        # start iterations\n",
    "        while k < n:\n",
    "            k+=1\n",
    "            print('------------------------------------ iteration ' + str(k) + ' ------------------------------------')\n",
    "\n",
    "            for j in range(len(strings)):\n",
    "                for i in range(len(strings)):\n",
    "\n",
    "                    # will exchange points between master and slave\n",
    "                    master = strings[j]\n",
    "                    slave = strings[i]\n",
    "                    firstcostmaster = cost.cost(distances, master)\n",
    "                    firstcostslave = cost.cost(distances, slave)\n",
    "                    temporarymaster = master.copy()\n",
    "                    temporaryslave = slave.copy()\n",
    "\n",
    "                    d = degree\n",
    "                    if degree > len(master)-2:\n",
    "                        d = len(master) - 2\n",
    "                    if degree > len(slave)-2:\n",
    "                        d = len(slave)-2\n",
    "                    shortest = len(slave)\n",
    "                    if len(master) < len(slave):\n",
    "                        shortest = len(master)\n",
    "                    \n",
    "                    if i==j:\n",
    "                        continue\n",
    "\n",
    "                    # take points from master\n",
    "                    for u in range(d,shortest-1):\n",
    "                        tempmaster = master.copy()\n",
    "                        poolnodes = []\n",
    "                        for q in range(d):\n",
    "                            poolnodes.append(master[u-q])\n",
    "                            tempmaster.pop(u-d+1)\n",
    "\n",
    "                        # take points from slave\n",
    "                        for v in range(d,shortest-1):\n",
    "                            nodes = poolnodes.copy()\n",
    "                            tempslave = slave.copy()\n",
    "                            for q in range(d):\n",
    "                                nodes.append(slave[v-q])\n",
    "                                tempslave.pop(v-d+1)\n",
    "                            \n",
    "                            # swap points\n",
    "                            newmaster, nmcost, remaining = rr.findOpt(tempmaster, master, nodes, distances, cost.cost, False)\n",
    "                            if newmaster != master:\n",
    "                                newslave, nscost, _ = rr.findOpt(tempslave, slave, remaining, distances, cost.cost, True)\n",
    "\n",
    "                                # new cost better than master slave pair?\n",
    "                                if nmcost + nscost < cost.cost(distances, master) + cost.cost(distances, slave):\n",
    "\n",
    "                                    # new cost better than other swap pair?\n",
    "                                    if nmcost + nscost < firstcostmaster + firstcostslave:\n",
    "\n",
    "                                        # does new solution adhere to constraints?\n",
    "                                        if cc.checkCapacity(data['capacity'],demand,newmaster) and cc.checkCapacity(data['capacity'],demand,newslave):\n",
    "#                                             print('--- new cost: ' + str(nmcost + nscost) + ' (VS: ' + str(cost.cost(distances,master) + cost.cost(distances,slave)) + ')')\n",
    "#                                             print('og master:  ' + str(master)    + ' \\t cost: ' + str(cost.cost(distances, master)))\n",
    "#                                             print('new master: ' + str(newmaster) + ' \\t cost: ' + str(nmcost))\n",
    "#                                             print('og slave:   ' + str(slave)     + ' \\t cost: ' + str(cost.cost(distances, slave)))\n",
    "#                                             print('new slave:  ' + str(newslave)  + ' \\t cost: ' + str(nscost))\n",
    "                                            strings[j] = newmaster\n",
    "                                            strings[i] = newslave\n",
    "                                            firstcostmaster = nmcost\n",
    "                                            firstcostslave = nscost\n",
    "                                            temporarymaster = newmaster\n",
    "                                            temporaryslave = newslave\n",
    "                                            replaced += 1\n",
    "\n",
    "                # put master and slave back in place\n",
    "                strings[j] = temporarymaster\n",
    "                strings[i] = temporaryslave\n",
    "\n",
    "        if not cc.checkTotal(strings, dim):\n",
    "            print('ERROR: NOT ALL POINTS PRESENT')\n",
    "        \n",
    "        t2 = time.time()\n",
    "        print('replaced ' + str(replaced) + ' strings in ' + str(round((t2-t1)*100)/100) + ' seconds')\n",
    "        print('dropped cost from ' +\n",
    "              str(np.sum([cost.cost(distances,string) for string in data[type]['initial']['solution']])) + \n",
    "              ' to ' +\n",
    "              str(np.sum([cost.cost(distances,string) for string in strings]))\n",
    "             )\n",
    "            \n",
    "        data[type]['optimized']['time'] = round((t2-t1)*1000)\n",
    "        data[type]['optimized']['cost'] = int(np.sum([cost.cost(distances,string) for string in strings]))\n",
    "        data[type]['optimized']['solution'] = strings\n",
    "        \n",
    "        with open('jsons/' + path + '.json', 'w') as outfile:\n",
    "            json.dump(data, outfile)"
   ]
  },
  {
   "cell_type": "code",
   "execution_count": null,
   "id": "36b7825a",
   "metadata": {},
   "outputs": [],
   "source": []
  }
 ],
 "metadata": {
  "kernelspec": {
   "display_name": "Python 3 (ipykernel)",
   "language": "python",
   "name": "python3"
  },
  "language_info": {
   "codemirror_mode": {
    "name": "ipython",
    "version": 3
   },
   "file_extension": ".py",
   "mimetype": "text/x-python",
   "name": "python",
   "nbconvert_exporter": "python",
   "pygments_lexer": "ipython3",
   "version": "3.9.6"
  }
 },
 "nbformat": 4,
 "nbformat_minor": 5
}
